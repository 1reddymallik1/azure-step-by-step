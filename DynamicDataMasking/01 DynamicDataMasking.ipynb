{
    "metadata": {
        "kernelspec": {
            "name": "SQL",
            "display_name": "SQL",
            "language": "sql"
        },
        "language_info": {
            "name": "sql",
            "version": ""
        }
    },
    "nbformat_minor": 2,
    "nbformat": 4,
    "cells": [
        {
            "cell_type": "markdown",
            "source": [
                "# Dynamic Data Masking\n",
                "## Create Masks"
            ],
            "metadata": {
                "azdata_cell_guid": "e91ad124-fa90-479c-9d9c-b2ce93a2abeb"
            }
        },
        {
            "cell_type": "code",
            "source": [
                "SELECT c.name, tbl.name as table_name, c.is_masked, c.masking_function  \n",
                "FROM sys.masked_columns AS c  \n",
                "JOIN sys.tables AS tbl   \n",
                "    ON c.[object_id] = tbl.[object_id]  \n",
                "WHERE is_masked = 1;"
            ],
            "metadata": {
                "azdata_cell_guid": "44dcfc4c-739b-45ec-8c11-843b653c6415"
            },
            "outputs": [],
            "execution_count": 91
        },
        {
            "cell_type": "code",
            "source": [
                "--ALTER TABLE [HR].Employees\n",
                "--ALTER COLUMN DOB ADD MASKED WITH (FUNCTION = 'default()');"
            ],
            "metadata": {
                "azdata_cell_guid": "e4422567-681e-400a-8254-aa016684d9bd"
            },
            "outputs": [],
            "execution_count": 92
        },
        {
            "cell_type": "code",
            "source": [
                "ALTER TABLE [HR].Employees\n",
                "ALTER COLUMN PayRate ADD MASKED WITH (FUNCTION = 'default()');"
            ],
            "metadata": {
                "azdata_cell_guid": "42c9642d-8d86-47c5-90a9-4547626f0035"
            },
            "outputs": [],
            "execution_count": 93
        },
        {
            "cell_type": "code",
            "source": [
                "ALTER TABLE [HR].Employees  \n",
                "ALTER COLUMN Age ADD MASKED WITH (FUNCTION = 'random(18, 65)');"
            ],
            "metadata": {
                "azdata_cell_guid": "031a430a-9d67-472e-b03f-3d5d2fb272c5"
            },
            "outputs": [],
            "execution_count": 94
        },
        {
            "cell_type": "code",
            "source": [
                "ALTER TABLE [SalesLT].[Customer]\n",
                "ALTER COLUMN EmailAddress ADD MASKED WITH (FUNCTION = 'email()');"
            ],
            "metadata": {
                "azdata_cell_guid": "79a7fd9d-4464-4bf0-820e-90a8b4cc4d3f"
            },
            "outputs": [],
            "execution_count": 95
        },
        {
            "cell_type": "code",
            "source": [
                "ALTER TABLE [HR].Employees\n",
                "ALTER COLUMN [SocialSecurityNumber] ADD MASKED WITH (FUNCTION = 'partial(0,\"XXX-XX-\",4)')"
            ],
            "metadata": {
                "azdata_cell_guid": "6c18952e-4ab9-45a3-92b2-8d398ee581cb"
            },
            "outputs": [],
            "execution_count": 96
        },
        {
            "cell_type": "code",
            "source": [
                "--ALTER TABLE [SalesLT].[Customer]\n",
                "--ALTER COLUMN [CreditCard] ADD MASKED WITH (FUNCTION = 'partial(0,\"XXXX-XXXX-XXXX-\",4)')"
            ],
            "metadata": {
                "azdata_cell_guid": "70532d39-ae04-4ef7-9fc9-5ee45c11e771"
            },
            "outputs": [],
            "execution_count": 97
        },
        {
            "cell_type": "code",
            "source": [
                "SELECT c.name, tbl.name as table_name, c.is_masked, c.masking_function  \n",
                "FROM sys.masked_columns AS c  \n",
                "JOIN sys.tables AS tbl   \n",
                "    ON c.[object_id] = tbl.[object_id]  \n",
                "WHERE is_masked = 1;"
            ],
            "metadata": {
                "azdata_cell_guid": "c57ed544-f6c5-41fd-b3bf-d92754a962ac"
            },
            "outputs": [],
            "execution_count": 98
        },
        {
            "cell_type": "markdown",
            "source": [
                "## Create User and Query Tables"
            ],
            "metadata": {
                "azdata_cell_guid": "a79a07dc-47e4-44af-a892-aaf2f8b0fbea"
            }
        },
        {
            "cell_type": "code",
            "source": [
                "CREATE USER TestUser WITHOUT LOGIN;  \n",
                "GRANT SELECT ON [HR].Employees TO TestUser;\n",
                "GRANT SELECT ON [SalesLT].[Customer] TO TestUser; "
            ],
            "metadata": {
                "azdata_cell_guid": "a23abade-5315-4a34-8ded-ed90267f26a8"
            },
            "outputs": [],
            "execution_count": 99
        },
        {
            "cell_type": "code",
            "source": [
                "EXECUTE AS USER = 'TestUser';  \n",
                "\n",
                "SELECT  TOP 10 \n",
                "        EmployeeNumber\n",
                "        , EmployeeName\n",
                "        , DOB\n",
                "        , Age\n",
                "        , PayRate\n",
                "        , SocialSecurityNumber\n",
                "FROM [HR].Employees;  \n",
                "\n",
                "SELECT  TOP 10\n",
                "        CustomerID\n",
                "        , FirstName\n",
                "        , LastName\n",
                "        , EmailAddress\n",
                "        , CreditCard\n",
                "FROM    [SalesLT].[Customer]\n",
                "\n",
                "REVERT;"
            ],
            "metadata": {
                "azdata_cell_guid": "f4566254-985a-414a-b631-4b51dfc87a10"
            },
            "outputs": [],
            "execution_count": 100
        },
        {
            "cell_type": "markdown",
            "source": [
                "## Grant User Unmask Permission and Query again"
            ],
            "metadata": {
                "azdata_cell_guid": "161e5590-a67e-4041-b9cc-95bb56fff4b4"
            }
        },
        {
            "cell_type": "code",
            "source": [
                "GRANT UNMASK TO TestUser;\n",
                "\n",
                "EXECUTE AS USER = 'TestUser';  \n",
                "\n",
                "SELECT  TOP 10 \n",
                "        EmployeeNumber\n",
                "        , EmployeeName\n",
                "        , DOB\n",
                "        , Age\n",
                "        , PayRate\n",
                "        , SocialSecurityNumber\n",
                "FROM [HR].Employees;  \n",
                "\n",
                "SELECT  TOP 10\n",
                "        CustomerID\n",
                "        , FirstName\n",
                "        , LastName\n",
                "        , EmailAddress\n",
                "        , CreditCard\n",
                "FROM    [SalesLT].[Customer]\n",
                "\n",
                "REVERT;\n",
                "\n",
                "REVOKE UNMASK TO TestUser; "
            ],
            "metadata": {
                "azdata_cell_guid": "a2808894-3496-4e47-bd9a-e9ac911336d3"
            },
            "outputs": [],
            "execution_count": 101
        },
        {
            "cell_type": "markdown",
            "source": [
                "## Cleanup"
            ],
            "metadata": {
                "azdata_cell_guid": "ca7a82c2-cd2e-4f93-bbb2-fc67c9e5cdf2"
            }
        },
        {
            "cell_type": "code",
            "source": [
                "ALTER TABLE HR.Employees\n",
                "ALTER COLUMN DOB DROP MASKED;\n",
                "GO\n",
                "ALTER TABLE HR.Employees\n",
                "ALTER COLUMN Age DROP MASKED;\n",
                "GO\n",
                "ALTER TABLE HR.Employees\n",
                "ALTER COLUMN PayRate DROP MASKED;\n",
                "GO\n",
                "ALTER TABLE HR.Employees\n",
                "ALTER COLUMN SocialSecurityNumber DROP MASKED;\n",
                "GO\n",
                "ALTER TABLE [SalesLT].[Customer]\n",
                "ALTER COLUMN EmailAddress DROP MASKED;\n",
                "GO\n",
                "ALTER TABLE [SalesLT].[Customer]\n",
                "ALTER COLUMN CreditCard DROP MASKED;"
            ],
            "metadata": {
                "azdata_cell_guid": "4027a462-a38a-4b0f-bb5c-889739c3e3d2"
            },
            "outputs": [],
            "execution_count": 102
        }
    ]
}