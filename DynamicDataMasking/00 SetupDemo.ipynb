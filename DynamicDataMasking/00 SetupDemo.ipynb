{
    "metadata": {
        "kernelspec": {
            "name": "SQL",
            "display_name": "SQL",
            "language": "sql"
        },
        "language_info": {
            "name": "sql",
            "version": ""
        }
    },
    "nbformat_minor": 2,
    "nbformat": 4,
    "cells": [
        {
            "cell_type": "markdown",
            "source": [
                "# Prepare Dynamic Data Masking Demo\n",
                "## Create a Database Master Key\n",
                "Only necessary if one does not already exist.\n",
                "Required to encrypt the credential secret in the next step."
            ],
            "metadata": {
                "azdata_cell_guid": "f6887269-8042-4a27-a508-1b472b1fb173"
            }
        },
        {
            "cell_type": "code",
            "source": [
                "CREATE MASTER KEY;"
            ],
            "metadata": {
                "azdata_cell_guid": "96b41ac6-d4c4-4381-9bb2-c7fa8498995c"
            },
            "outputs": [],
            "execution_count": 1
        },
        {
            "cell_type": "markdown",
            "source": [
                "## Create a Database Scoped Credential and Data Source\n",
                "### Accessing a Blob Storage with an Shared Access Signature"
            ],
            "metadata": {
                "azdata_cell_guid": "a5f2a925-4eb3-4f95-883b-0fd1f0c87731"
            }
        },
        {
            "cell_type": "code",
            "source": [
                "CREATE DATABASE SCOPED CREDENTIAL SharedAccessSignature\n",
                "WITH\n",
                "     IDENTITY = 'SHARED ACCESS SIGNATURE'\n",
                "--   REMOVE ? FROM THE BEGINNING OF THE SAS TOKEN\n",
                ",    SECRET = ''\n",
                ";"
            ],
            "metadata": {
                "azdata_cell_guid": "6dec58e9-519c-4b68-aa8e-d5c31bba7e5e"
            },
            "outputs": [],
            "execution_count": 31
        },
        {
            "cell_type": "code",
            "source": [
                "CREATE EXTERNAL DATA SOURCE BlobStorage\n",
                "WITH (\n",
                "    TYPE = BLOB_STORAGE,\n",
                "    LOCATION='https://<storage-account-name>.blob.core.windows.net/<container-name>', \n",
                "    CREDENTIAL = SharedAccessSignature\n",
                ");"
            ],
            "metadata": {
                "azdata_cell_guid": "e366df6a-f4e8-4892-a064-f4f96f20fcbf"
            },
            "outputs": [],
            "execution_count": 40
        },
        {
            "cell_type": "markdown",
            "source": [
                "## Create Schema and Employee Table"
            ],
            "metadata": {
                "azdata_cell_guid": "7b4cff79-82c0-421b-bdd0-1887420e7f21"
            }
        },
        {
            "cell_type": "code",
            "source": [
                "CREATE SCHEMA HR;"
            ],
            "metadata": {
                "azdata_cell_guid": "aca966fd-ed43-4b5b-803b-d32dbdc7dbc0"
            },
            "outputs": [],
            "execution_count": 12
        },
        {
            "cell_type": "code",
            "source": [
                "CREATE TABLE [HR].Employees\n",
                "(\n",
                "    EmployeeName [nvarchar](100) NOT NULL\n",
                "    , EmployeeNumber [int] NOT NULL\n",
                "    , [State] [nvarchar](2) NULL\n",
                "    , Zip [int] NULL\n",
                "    , DOB [date] NULL\n",
                "    , Age [int] NULL\n",
                "    , Sex [nvarchar](10) NULL \n",
                "    , MaritalDesc [nvarchar](100) NULL\n",
                "    , CitizenDesc [nvarchar](100) NULL\n",
                "    , HispanicLatino [nvarchar](10) NULL \n",
                "    , RaceDesc [nvarchar](100) NULL\n",
                "    , DateOfHire [date] NULL\n",
                "    , DateOfTermination [date] NULL\n",
                "    , ReasonForTerm [nvarchar](100) NULL\n",
                "    , EmploymentStatus [nvarchar](100) NULL\n",
                "    , Department [nvarchar](100) NULL\n",
                "    , Position [nvarchar](100) NULL\n",
                "    , PayRate [decimal](5,2) NULL\n",
                "    , ManagerName [nvarchar](100) NULL\n",
                "    , EmployeeSource [nvarchar](100) NULL\n",
                "    , PerformanceScore [nvarchar](100) NULL\n",
                ");"
            ],
            "metadata": {
                "azdata_cell_guid": "8ec4c3ac-ae9b-4781-b470-ab57b125dbf8"
            },
            "outputs": [],
            "execution_count": 66
        },
        {
            "cell_type": "markdown",
            "source": [
                "## Import Employee Data and Generate a SSN\n",
                "\n",
                "> This [Kaggle Dataset](https://www.kaggle.com/rhuebner/human-resources-data-set) has been used for the employees table."
            ],
            "metadata": {
                "azdata_cell_guid": "df1abccb-6d87-4fd1-84ea-e53b9949b82a"
            }
        },
        {
            "cell_type": "code",
            "source": [
                "BULK INSERT [HR].Employees \n",
                "FROM 'core_dataset.csv'\n",
                "WITH   \n",
                "    ( \n",
                "    DATA_SOURCE = 'BlobStorage'\n",
                "    , FORMAT = 'CSV' \n",
                "    , FIRSTROW = 2\n",
                "    , LASTROW = 302\n",
                "    );"
            ],
            "metadata": {
                "azdata_cell_guid": "d028227a-a942-47ed-a33f-6c38612cd620"
            },
            "outputs": [],
            "execution_count": 67
        },
        {
            "cell_type": "code",
            "source": [
                "ALTER TABLE [HR].Employees\n",
                "ADD [SocialSecurityNumber] NCHAR(11) NOT NULL\n",
                "CONSTRAINT Default_SSN\n",
                "DEFAULT ('000-00-0000');"
            ],
            "metadata": {
                "azdata_cell_guid": "4b12b036-95d7-4dcb-bdcc-7c8ea46be9a0"
            },
            "outputs": [],
            "execution_count": 0
        },
        {
            "cell_type": "code",
            "source": [
                "SET NOCOUNT ON;\n",
                "\n",
                "WHILE EXISTS(SELECT * FROM [HR].Employees WHERE [SocialSecurityNumber] = '000-00-0000')\n",
                "BEGIN\n",
                "    UPDATE  [HR].Employees\n",
                "    SET     [SocialSecurityNumber] = LTRIM(STR(FLOOR(RAND()*(999-100+1))+100)) + '-' + LTRIM(STR(FLOOR(RAND()*(99-10+1))+10))  + '-' + LTRIM(STR(FLOOR(RAND()*(9999-1000+1))+1000))\n",
                "    WHERE   EmployeeNumber = \n",
                "            (SELECT TOP 1 \n",
                "                    EmployeeNumber \n",
                "            FROM    [HR].Employees\n",
                "            WHERE   [SocialSecurityNumber] = '000-00-0000');\n",
                "END\n",
                "\n",
                "SET NOCOUNT OFF;"
            ],
            "metadata": {
                "azdata_cell_guid": "786cdf34-4b17-40e9-8e4c-07e2d4787727"
            },
            "outputs": [],
            "execution_count": 11
        },
        {
            "cell_type": "code",
            "source": [
                "SELECT TOP 10 * FROM [HR].Employees;"
            ],
            "metadata": {
                "azdata_cell_guid": "b48da5ff-7b7e-4b96-8c2b-5dd87807475d"
            },
            "outputs": [],
            "execution_count": 12
        },
        {
            "cell_type": "markdown",
            "source": [
                "## Generate Fake Credit Card Numbers for Customers Table"
            ],
            "metadata": {
                "azdata_cell_guid": "667b56ad-5ae3-407a-a40c-d397e1decdc4"
            }
        },
        {
            "cell_type": "code",
            "source": [
                "ALTER TABLE [SalesLT].[Customer]\n",
                "ADD [CreditCard] NVARCHAR(20) NULL;"
            ],
            "metadata": {
                "azdata_cell_guid": "16051f5b-f267-4b51-a7bb-47f9e9fa2f68"
            },
            "outputs": [],
            "execution_count": 4
        },
        {
            "cell_type": "code",
            "source": [
                "UPDATE  [SalesLT].[Customer]\n",
                "SET     [CreditCard] = STUFF(STUFF(STUFF(LEFT(CONVERT(NVARCHAR, ABS(CONVERT(BIGINT,CONVERT(BINARY(8), NEWID())))), 16),13,0,'-'),9,0,'-'),5,0,'-')"
            ],
            "metadata": {
                "azdata_cell_guid": "a7313019-1fc1-4fdd-b768-38041d712775"
            },
            "outputs": [],
            "execution_count": 15
        }
    ]
}